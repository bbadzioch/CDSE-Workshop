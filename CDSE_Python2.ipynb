{
 "cells": [
  {
   "cell_type": "code",
   "execution_count": 1,
   "metadata": {},
   "outputs": [
    {
     "data": {
      "text/html": [
       "<style>\n",
       "       @import url('https://fonts.googleapis.com/css?family=Quicksand:500');\n",
       "\n",
       "       div.bb {background-color: #e0e0eb;\n",
       "               border-left: 15px solid #cc6699;\n",
       "               margin: -0.5em;\n",
       "               padding: 1em 0.5em 1em 1em;\n",
       "               font-family: 'Quicksand', sans-serif;\n",
       "               font-size: 14px;\n",
       "               }\n",
       "\n",
       "       pre.bb {padding: 1em;\n",
       "               margin-bottom: 0px;\n",
       "               margin-right: 500px;\n",
       "               border: 1px solid #cc6699;\n",
       "               }\n",
       "\n",
       "       ol.bb { counter-reset: item }\n",
       "       li.bb { display: block }\n",
       "       li.bb:before {content: counters(item, \".\") \". \";\n",
       "                     counter-increment: item;\n",
       "                     font-weight: bold;}\n",
       "\n",
       "       h1.bbh, h2.bbh, h3.bbh {margin-top: 10px}\n",
       "\n",
       "       a:link.up_button {padding: 3px;\n",
       "                         border: 2px solid;\n",
       "                         background-color: #e0e0eb;\n",
       "                         margin: 3px 0px 0px 0px;\n",
       "                         text-align: center;\n",
       "                         text-decoration: none;\n",
       "                         display: inline-block;\n",
       "                         font-weight: bold;\n",
       "                         font-size: 10px;\n",
       "                        }\n",
       "\n",
       "       a:link.toc {text-decoration:none;}\n",
       "\n",
       "       #notebook-container {\n",
       "                            padding: 5px;\n",
       "                            background-color: #ffffff;\n",
       "                            min-height: 0;\n",
       "                            -webkit-box-shadow: 0px 0px 12px 1px rgba(87, 87, 87, 0.3);\n",
       "                            box-shadow: 0px 0px 12px 1px rgba(87, 87, 87, 0.3);\n",
       "                            }\n",
       "      .notebook_app {\n",
       "                     background-color: #f0f0f0;\n",
       "                     }\n",
       "</style>\n"
      ],
      "text/plain": [
       "<IPython.core.display.HTML object>"
      ]
     },
     "execution_count": 1,
     "metadata": {},
     "output_type": "execute_result"
    }
   ],
   "source": [
    "from IPython.display import HTML\n",
    "import requests\n",
    "HTML(requests.get(\"https://git.io/fh5WI\").text)"
   ]
  },
  {
   "cell_type": "markdown",
   "metadata": {},
   "source": [
    "<div class=\"bb alert alert-info\">\n",
    "<h1 style=\"text-align : center; font-size: 36px\">Python and Jupyter for  Programmers</h1>\n",
    "<h2 style=\"text-align : center\">Part 2: Web Scrapping with Requests and BeautifulSoup</h2>    \n",
    "</div>\n",
    "\n",
    "\n",
    "<a id=\"TOC\"></a>\n",
    "<div class=\"bb alert alert-info\">\n",
    "    <h1 class=\"bbh alert-heading\">Contents</h1>\n",
    "    <hr/>\n",
    "        <div style = \"font-size:15px;\">   \n",
    "            <ol class=\"bb\">\n",
    "                <li class=\"bb\"><a class=\"toc\" href=\"#ScrapingProject\">Project</a></li>\n",
    "                <li class=\"bb\"><a class=\"toc\" href=\"#Requests\">Requests</a></li>\n",
    "                <li class=\"bb\"><a class=\"toc\" href=\"#BeautifulSoup\">Beautiful Soup</a></li>\n",
    "                <li class=\"bb\"><a class=\"toc\" href=\"#StringProcessing\">String Processing</a></li>\n",
    "            <ol>\n",
    "        </div>\n",
    "</div>"
   ]
  },
  {
   "cell_type": "markdown",
   "metadata": {},
   "source": [
    "<div class=\"bb alert alert-info\">\n",
    "<a class=\"up_button\" href=\"#TOC\" role=\"button\">go top</a>\n",
    "<a id=\"ScrapingProject\"></a>\n",
    "<h1 class=\"bbh\">\n",
    "1. Project\n",
    "</h1>\n",
    "\n",
    "\n",
    "Here is a page with a directory of graduate students at the UB Math Department: \n",
    "<pre class=\"bb\" style=\"width: 520px; padding-top:0px\"><code><a style=\"text-decoration:none;\" href=\"http://www.buffalo.edu/cas/math/people/grad-directory.html\">\n",
    "http://www.buffalo.edu/cas/math/people/grad-directory.html</a>\n",
    "</code></pre>\n",
    "\n",
    "\n",
    "\n",
    "<b>Objective:</b> Retrieve names and email addresses of all students. \n",
    "</div>"
   ]
  },
  {
   "cell_type": "markdown",
   "metadata": {},
   "source": [
    "<div class=\"bb alert alert-info\">\n",
    "<a class=\"up_button\" href=\"#TOC\" role=\"button\">go top</a>\n",
    "<a id=\"Requests\"></a>\n",
    "<h1 class=\"bbh\">\n",
    "2. Requests\n",
    "</h1>\n",
    "\n",
    "\n",
    "<hr/>\n",
    "\n",
    "<ul>\n",
    "  <li><a href=\"http://docs.python-requests.org/en/master/\">Requests</a> is a Python library for         interacting with web pages.</li> \n",
    "  <li>A short introduction to requests is available <a href=\"http://docs.python-     requests.org/en/latest/user/quickstart/\">here</a>.</li> \n",
    "</ul>\n",
    "\n",
    "</div>"
   ]
  },
  {
   "cell_type": "markdown",
   "metadata": {},
   "source": [
    "<div class=\"bb alert alert-info\">\n",
    "\n",
    "<p>Directory of graduate students in the Math Department:</p>\n",
    "<pre class=\"bb\" style=\"width: 520px; padding-top:0px\"><code><a style=\"text-decoration:none;\" href=\"http://www.buffalo.edu/cas/math/people/grad-directory.html\"</a>\n",
    "http://www.buffalo.edu/cas/math/people/grad-directory.html\n",
    "</code></pre>\n",
    "\n",
    "<p>Get the content of the webpage:</p>\n",
    "\n",
    "</div>"
   ]
  },
  {
   "cell_type": "markdown",
   "metadata": {},
   "source": [
    "<div class=\"bb alert alert-info\">\n",
    "<h3>Retrieving binary files</h3>\n",
    "\n",
    "<hr/>\n",
    "A sample jpeg image from Wikipedia Commons:\n",
    "\n",
    "<pre class=\"bb\" style=\"width: 220px\">\n",
    "<code><a style=\"text-decoration:none;\" href=\"https://bit.ly/2V8pGeS\">https://bit.ly/2V8pGeS</a></code>\n",
    "</pre>\n",
    "\n",
    "</div>"
   ]
  },
  {
   "cell_type": "markdown",
   "metadata": {},
   "source": [
    "<div class=\"bb alert alert-info\">\n",
    "<a class=\"up_button\" href=\"#TOC\" role=\"button\">go top</a>\n",
    "<a id=\"BeautifulSoup\"></a>\n",
    "<h1 class=\"bbh\">\n",
    "3. Beautiful Soup\n",
    "</h1>\n",
    "\n",
    "\n",
    "<hr/>\n",
    "\n",
    "<a href=\"https://www.crummy.com/software/BeautifulSoup/\">Beautiful Soup</a> is a Python library for parsing HTML documents. \n",
    "\n",
    "</div>"
   ]
  },
  {
   "cell_type": "markdown",
   "metadata": {},
   "source": [
    "<div class=\"bb alert alert-info\">\n",
    "Parse the page:\n",
    "</div>"
   ]
  },
  {
   "cell_type": "markdown",
   "metadata": {},
   "source": [
    "<div class=\"bb alert alert-info\">\n",
    "Print the page code neatly:\n",
    "</div>"
   ]
  },
  {
   "cell_type": "markdown",
   "metadata": {},
   "source": [
    "<div class=\"bb alert alert-info\">\n",
    "Find all HTML <code>&lt;p&gt;...&lt;/p&gt;</code> tags:\n",
    "</div>"
   ]
  },
  {
   "cell_type": "markdown",
   "metadata": {},
   "source": [
    "<div class=\"bb alert alert-info\">\n",
    "\n",
    "<p>The <code>get_text()</code> method returns text enclosed in a tag.</p>\n",
    "</div>"
   ]
  },
  {
   "cell_type": "markdown",
   "metadata": {},
   "source": [
    "<div class=\"bb alert alert-info\">\n",
    "Get text from all paragraphs containing the word \"Office\":\n",
    "</div>"
   ]
  },
  {
   "cell_type": "markdown",
   "metadata": {},
   "source": [
    "<div class=\"bb alert alert-info\">\n",
    "<a class=\"up_button\" href=\"#TOC\" role=\"button\">go top</a>\n",
    "<a id=\"StringProcessing\"></a>\n",
    "<h1 class=\"bbh\">\n",
    "4. String Processing\n",
    "</h1>\n",
    "    \n",
    "<hr/>\n",
    "\n",
    "Here we get names and emails from the strings.\n",
    "\n",
    "</div>"
   ]
  }
 ],
 "metadata": {
  "kernelspec": {
   "display_name": "Python 3",
   "language": "python",
   "name": "python3"
  },
  "language_info": {
   "codemirror_mode": {
    "name": "ipython",
    "version": 3
   },
   "file_extension": ".py",
   "mimetype": "text/x-python",
   "name": "python",
   "nbconvert_exporter": "python",
   "pygments_lexer": "ipython3",
   "version": "3.7.1"
  }
 },
 "nbformat": 4,
 "nbformat_minor": 2
}
