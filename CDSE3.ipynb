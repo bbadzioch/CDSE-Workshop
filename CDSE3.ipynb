{
 "cells": [
  {
   "cell_type": "code",
   "execution_count": 1,
   "metadata": {},
   "outputs": [
    {
     "data": {
      "text/html": [
       "<style>\n",
       "       @import url('https://fonts.googleapis.com/css?family=Quicksand:500');\n",
       "\n",
       "       div.bb {background-color: #e0e0eb;\n",
       "               border-left: 15px solid #cc6699;\n",
       "               margin: -0.5em;\n",
       "               padding: 1em 0.5em 1em 1em;\n",
       "               font-family: 'Quicksand', sans-serif;\n",
       "               font-size: 14px;\n",
       "               }\n",
       "\n",
       "       pre.bb {padding: 1em;\n",
       "               margin-bottom: 0px;\n",
       "               margin-right: 500px;\n",
       "               border: 1px solid #cc6699;\n",
       "               }\n",
       "\n",
       "       ol.bb { counter-reset: item }\n",
       "       li.bb { display: block }\n",
       "       li.bb:before {content: counters(item, \".\") \". \";\n",
       "                     counter-increment: item;\n",
       "                     font-weight: bold;}\n",
       "\n",
       "       h1.bbh, h2.bbh, h3.bbh {margin-top: 10px}\n",
       "\n",
       "       a:link.up_button {padding: 3px;\n",
       "                         border: 2px solid;\n",
       "                         border-radius: 4px;\n",
       "                         background-color: #e0e0eb;\n",
       "                         margin: 3px 0px 0px 0px;\n",
       "                         text-align: center;\n",
       "                         text-decoration: none;\n",
       "                         display: inline-block;\n",
       "                         font-weight: bold;\n",
       "                         font-size: 10px;\n",
       "                        }\n",
       "\n",
       "       a:link.toc {text-decoration:none;}\n",
       "\n",
       "       #notebook-container {\n",
       "                            padding: 5px;\n",
       "                            background-color: #ffffff;\n",
       "                            min-height: 0;\n",
       "                            -webkit-box-shadow: 0px 0px 12px 1px rgba(87, 87, 87, 0.3);\n",
       "                            box-shadow: 0px 0px 12px 1px rgba(87, 87, 87, 0.3);\n",
       "                            }\n",
       "      .notebook_app {\n",
       "                     background-color: #f0f0f0;\n",
       "                     }\n",
       "</style>\n"
      ],
      "text/plain": [
       "<IPython.core.display.HTML object>"
      ]
     },
     "execution_count": 1,
     "metadata": {},
     "output_type": "execute_result"
    }
   ],
   "source": [
    "from IPython.display import HTML\n",
    "import requests\n",
    "HTML(requests.get(\"https://git.io/fh5WI\").text)"
   ]
  },
  {
   "cell_type": "markdown",
   "metadata": {},
   "source": [
    "<div class=\"bb alert alert-info\">\n",
    "<h1 style=\"text-align : center; font-size: 36px\">Python and Jupyter for  Programmers</h1>\n",
    "<h2 style=\"text-align : center\">Part 3: Computing with Numpy</h2>    \n",
    "</div>\n",
    "\n",
    "\n",
    "<a id=\"TOC\"></a>\n",
    "<div class=\"bb alert alert-info\">\n",
    "    <h1 class=\"bbh alert-heading\">Contents</h1>\n",
    "    <hr/>\n",
    "        <div style = \"font-size:15px;\">   \n",
    "            <ol class=\"bb\">\n",
    "                <li class=\"bb\"><a class=\"toc\" href=\"#NumpyArrays\">Numpy Arrays</a></li>\n",
    "                <li class=\"bb\"><a class=\"toc\" href=\"#NumpySpeed\">Performance Advantage</a></li>\n",
    "                <li class=\"bb\"><a class=\"toc\" href=\"#BokehPlots\">Plotting with Numpy and Bokeh</a></li>\n",
    "                <li class=\"bb\"><a class=\"toc\" href=\"#NumpyArrayOps\">Operations on Numpy Arrays</a>\n",
    "                     <ol class=\"bb\">\n",
    "                        <li class=\"bb\"><a class=\"toc\" href=\"#NumpySlicing\">Slicing</a></li>\n",
    "                        <li class=\"bb\"><a class=\"toc\" href=\"#BooleanNumpy\">Boolean Arrays</a></li>\n",
    "                     </ol>\n",
    "                </li>\n",
    "                <li class=\"bb\"><a class=\"toc\" href=\"#MultidimArrays\">Multidimensional Arrays</a></li>\n",
    "                <li class=\"bb\"><a class=\"toc\" href=\"#ImageManipulation\">Example: Image Manipulation</a></li>\n",
    "           <ol>\n",
    "        </div>\n",
    "</div>"
   ]
  },
  {
   "cell_type": "markdown",
   "metadata": {},
   "source": [
    "<div class = \"bb alert alert-info\">\n",
    "<a class=\"up_button\" href=\"#TOC\" role=\"button\">go top</a>\n",
    "<a id=\"NumpyArrays\"></a>\n",
    "<h1 class=\"bbh\">\n",
    "1. Numpy Arrays\n",
    "</h1>\n",
    "\n",
    "<hr/>\n",
    "\n",
    "<ul>\n",
    "    <li><a href=\"http://www.numpy.org/#\">Numpy</a> is one of the most important Python libraries used for scientific computing and data analysis.</li> \n",
    "    <li>The main tool it provides are numpy arrays.</li>\n",
    "</ul>\n",
    "\n",
    "</div>"
   ]
  },
  {
   "cell_type": "markdown",
   "metadata": {},
   "source": [
    "<div class = \"bb alert alert-info\">\n",
    "Converting a list into a numpy array:\n",
    "</div>   "
   ]
  },
  {
   "cell_type": "markdown",
   "metadata": {},
   "source": [
    "<div class = \"bb alert alert-info\">\n",
    "We can perform computations on the whole numpy arrays at once:\n",
    "</div>   "
   ]
  },
  {
   "cell_type": "markdown",
   "metadata": {},
   "source": [
    "<div class = \"bb alert alert-info\">\n",
    "<a class=\"up_button\" href=\"#TOC\" role=\"button\">go top</a>\n",
    "<a id=\"NumpySpeed\"></a>\n",
    "<h1 class=\"bbh\">\n",
    "2. Performance Advantage\n",
    "</h1>\n",
    "\n",
    "<hr/>\n",
    "\n",
    "<p>Numpy computations are typically a lot faster than computations done using pure Python.</p>\n",
    "\n",
    "</div>\n",
    "\n",
    "<div class = \"bb alert alert-info\">\n",
    "<b>Example.</b>\n",
    "Calculate an array of squares of integers from 0 to 1,000,000 using numpy:\n",
    "</div> "
   ]
  },
  {
   "cell_type": "markdown",
   "metadata": {},
   "source": [
    "<div class = \"bb alert alert-info\">\n",
    "The same computation using list comprehensions:\n",
    "</div>    "
   ]
  },
  {
   "cell_type": "markdown",
   "metadata": {},
   "source": [
    "<div class = \"bb alert alert-info\">\n",
    "<a class=\"up_button\" href=\"#TOC\" role=\"button\">go top</a>\n",
    "<a id=\"BokehPlots\"></a>\n",
    "<h1 class=\"bbh\">\n",
    "3. Plotting with Numpy and Bokeh\n",
    "</h1>\n",
    "\n",
    "<hr/>\n",
    "\n",
    "<p><a href=\"https://bokeh.pydata.org/en/latest/\">Bokeh</a> is one of Python libraries for producing graphs and plots.</p>\n",
    "\n",
    "</div>"
   ]
  },
  {
   "cell_type": "markdown",
   "metadata": {},
   "source": [
    "<div class = \"bb alert alert-info\">\n",
    "<a class=\"up_button\" href=\"#TOC\" role=\"button\">go top</a>\n",
    "<a id=\"NumpyArrayOps\"></a>\n",
    "<h1 class=\"bbh\">\n",
    "4. Operations on Numpy Arrays\n",
    "</h1>\n",
    "\n",
    "<hr/>\n",
    "\n",
    "<a id=\"NumpySlicing\"></a>\n",
    "<h2>\n",
    "4.1 Slicing\n",
    "</h2>\n",
    "\n",
    "<p>Array slicing works the same as for lists:</p>\n",
    "\n",
    "<pre class = \"bb\" style=\"width:300px\" >\n",
    "<code class>my_array[start : stop]\n",
    "my_array[start : stop : step]\n",
    "</code></pre>\n",
    "\n",
    "</div>"
   ]
  },
  {
   "cell_type": "markdown",
   "metadata": {},
   "source": [
    "<div class = \"bb alert alert-info\">\n",
    "<a class=\"up_button\" href=\"#TOC\" role=\"button\">go top</a>\n",
    "<a id=\"BooleanNumpy\"></a>\n",
    "<h2>\n",
    "4.2 Boolean Arrays\n",
    "</h2>\n",
    "    \n",
    "<hr/>\n",
    "\n",
    "Boolean arrays let us select elements of an array using a logical condition.\n",
    "\n",
    "</div>\n",
    "\n",
    "\n",
    "<div class = \"bb alert alert-info\">\n",
    "Create an array of 15 random integers from the range 0-100:\n",
    "</div>"
   ]
  },
  {
   "cell_type": "markdown",
   "metadata": {},
   "source": [
    "<div class = \"bb alert alert-info\">\n",
    "Create a subarray of elements of <code>a</code> for which <code>large</code> is true:  \n",
    "</div>"
   ]
  },
  {
   "cell_type": "markdown",
   "metadata": {},
   "source": [
    "<div class = \"bb alert alert-info\">\n",
    "This can be used to modify arrays:\n",
    "</div>"
   ]
  },
  {
   "cell_type": "markdown",
   "metadata": {},
   "source": [
    "<div class = \"bb alert alert-info\">\n",
    "<a class=\"up_button\" href=\"#TOC\" role=\"button\">go top</a>\n",
    "<a id=\"MultidimArrays\"></a>\n",
    "<h1 class=\"bbh\">\n",
    "5. Multidimensional Arrays\n",
    "</h1>\n",
    "\n",
    "<hr/>\n",
    "\n",
    "<p>Numpy arrays can have more than one dimension.</p>\n",
    "\n",
    "</div>"
   ]
  },
  {
   "cell_type": "markdown",
   "metadata": {},
   "source": [
    "<div class = \"bb alert alert-info\">\n",
    "<a class=\"up_button\" href=\"#TOC\" role=\"button\">go top</a>\n",
    "<a id=\"ImageManipulation\"></a>\n",
    "<h1 class=\"bbh\">\n",
    "6. Example: Image Manipulation\n",
    "</h1>\n",
    "\n",
    "<hr/>\n",
    "\n",
    "<ul>\n",
    "  <li>We will use multidimensional numpy arrays to modify an image.</li> \n",
    "  <li>We will use Matplotlib which is another Python plotting library.</li>\n",
    "</ul>\n",
    "\n",
    "</div>"
   ]
  },
  {
   "cell_type": "markdown",
   "metadata": {},
   "source": [
    "<div class = \"bb alert alert-info\">\n",
    "Read an image file and represent it as a 3-dimensional numpy array:\n",
    "</div>"
   ]
  },
  {
   "cell_type": "markdown",
   "metadata": {},
   "source": [
    "<div class = \"bb alert alert-info\">\n",
    "    \n",
    "<h3>RGB Coordinates</h3>\n",
    "\n",
    "Color of each pixel is represented by 3 integers, which give intensities of its Red, Green, and Blue components:\n",
    "   \n",
    "<ul>\n",
    "    <li>0 = color off</li> \n",
    "    <li>255 = full on</li>\n",
    "</ul>\n",
    "\n",
    "<img src=\"https://git.io/fhFxI\">\n",
    "\n",
    "</div>"
   ]
  },
  {
   "cell_type": "markdown",
   "metadata": {},
   "source": [
    "<div class = \"bb alert alert-info\">\n",
    "Shape of the image array (rows, columns, depth):\n",
    "</div>"
   ]
  },
  {
   "cell_type": "markdown",
   "metadata": {},
   "source": [
    "<div class = \"bb alert alert-info\">\n",
    "For image manipulation it is convenient to convert RGB coordinates to floats in the range 0-1:\n",
    "</div>"
   ]
  },
  {
   "cell_type": "markdown",
   "metadata": {},
   "source": [
    "<div class = \"bb alert alert-info\">\n",
    "We will use the following function to display an image:\n",
    "</div>"
   ]
  },
  {
   "cell_type": "code",
   "execution_count": null,
   "metadata": {},
   "outputs": [],
   "source": [
    "def imshow(x):\n",
    "    plt.figure(figsize=(10,10))\n",
    "    plt.imshow(x)\n",
    "    plt.show()"
   ]
  }
 ],
 "metadata": {
  "kernelspec": {
   "display_name": "Python 3",
   "language": "python",
   "name": "python3"
  },
  "language_info": {
   "codemirror_mode": {
    "name": "ipython",
    "version": 3
   },
   "file_extension": ".py",
   "mimetype": "text/x-python",
   "name": "python",
   "nbconvert_exporter": "python",
   "pygments_lexer": "ipython3",
   "version": "3.7.1"
  }
 },
 "nbformat": 4,
 "nbformat_minor": 2
}
