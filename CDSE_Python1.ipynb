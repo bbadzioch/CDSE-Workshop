{
 "cells": [
  {
   "cell_type": "code",
   "execution_count": 1,
   "metadata": {},
   "outputs": [
    {
     "data": {
      "text/html": [
       "<style>\n",
       "       @import url('https://fonts.googleapis.com/css?family=Quicksand:500');\n",
       "\n",
       "       div.bb {background-color: #e0e0eb;\n",
       "               border-left: 15px solid #cc6699;\n",
       "               margin: -0.5em;\n",
       "               padding: 1em 0.5em 1em 1em;\n",
       "               font-family: 'Quicksand', sans-serif;\n",
       "               font-size: 14px;\n",
       "               }\n",
       "\n",
       "       pre.bb {padding: 1em;\n",
       "               margin-bottom: 0px;\n",
       "               margin-right: 500px;\n",
       "               border: 1px solid #cc6699;\n",
       "               }\n",
       "\n",
       "       ol.bb { counter-reset: item }\n",
       "       li.bb { display: block }\n",
       "       li.bb:before {content: counters(item, \".\") \". \";\n",
       "                     counter-increment: item;\n",
       "                     font-weight: bold;}\n",
       "\n",
       "       h1.bbh, h2.bbh, h3.bbh {margin-top: 10px}\n",
       "\n",
       "       a:link.up_button {padding: 3px;\n",
       "                         border: 2px solid;\n",
       "                         border-radius: 4px;\n",
       "                         background-color: #e0e0eb;\n",
       "                         margin: 3px 0px 0px 0px;\n",
       "                         text-align: center;\n",
       "                         text-decoration: none;\n",
       "                         display: inline-block;\n",
       "                         font-weight: bold;\n",
       "                         font-size: 10px;\n",
       "                        }\n",
       "\n",
       "       a:link.toc {text-decoration:none;}\n",
       "\n",
       "       #notebook-container {\n",
       "                            padding: 5px;\n",
       "                            background-color: #ffffff;\n",
       "                            min-height: 0;\n",
       "                            -webkit-box-shadow: 0px 0px 12px 1px rgba(87, 87, 87, 0.3);\n",
       "                            box-shadow: 0px 0px 12px 1px rgba(87, 87, 87, 0.3);\n",
       "                            }\n",
       "      .notebook_app {\n",
       "                     background-color: #f0f0f0;\n",
       "                     }\n",
       "</style>\n"
      ],
      "text/plain": [
       "<IPython.core.display.HTML object>"
      ]
     },
     "execution_count": 1,
     "metadata": {},
     "output_type": "execute_result"
    }
   ],
   "source": [
    "from IPython.display import HTML\n",
    "import requests\n",
    "HTML(requests.get(\"https://git.io/fh5WI\").text)"
   ]
  },
  {
   "cell_type": "markdown",
   "metadata": {},
   "source": [
    "<div class=\"bb alert alert-info\">\n",
    "<h1 style=\"text-align : center; font-size: 36px\">Python and Jupyter for  Programmers</h1>\n",
    "<h2 style=\"text-align : center\">Part 1: Jupyter and Python Basics</h2>    \n",
    "</div>\n",
    "\n",
    "\n",
    "<a id=\"TOC\"></a>\n",
    "<div class=\"bb alert alert-info\">\n",
    "    <h1 class=\"bbh alert-heading\">Contents</h1>\n",
    "    <hr/>\n",
    "        <div style = \"font-size:15px;\">   \n",
    "            <ol class=\"bb\">\n",
    "                <li class=\"bb\"><a class=\"toc\" href=\"#Jupyter\">Jupyter Notebook and JupterLab</a></li>\n",
    "                <li class=\"bb\"><a class=\"toc\" href=\"#Notebook\">Notebook Basics</a>\n",
    "                    <ol class=\"bb\">\n",
    "                        <li class=\"bb\"><a class=\"toc\" href=\"#MarkdownCells\">Markdown Cells</a></li>\n",
    "                        <li class=\"bb\"><a class=\"toc\" href=\"#CodeCells\">Code Cells</a></li>\n",
    "                    </ol>\n",
    "                </li>\n",
    "                <li class=\"bb\"><a class=\"toc\" href=\"#Python\">Python Basics</a>\n",
    "                    <ol class=\"bb\">\n",
    "                        <li class=\"bb\"><a class=\"toc\" href=\"#Numbers\">Numbers and arithmetics</a></li>\n",
    "                        <li class=\"bb\"><a class=\"toc\" href=\"#Assignments\">Variable Assignments</a></li>\n",
    "                        <li class=\"bb\"><a class=\"toc\" href=\"#Modules\">Importing Modules</a></li>\n",
    "                        <li class=\"bb\"><a class=\"toc\" href=\"#Strings\">Text Strings</a></li>\n",
    "                        <li class=\"bb\"><a class=\"toc\" href=\"#IfThen\">if/then/else</a></li>\n",
    "                        <li class=\"bb\"><a class=\"toc\" href=\"#Booleans\">Booleans</a></li>\n",
    "                        <li class=\"bb\"><a class=\"toc\" href=\"#While\">\"while\" Loops</a></li>\n",
    "                        <li class=\"bb\"><a class=\"toc\" href=\"#Lists\">Lists and \"for\" Loops</a></li>\n",
    "                        <li class=\"bb\"><a class=\"toc\" href=\"#ListSlicing\">Lists Slicing</a></li>\n",
    "                        <li class=\"bb\"><a class=\"toc\" href=\"#ListComprehensions\">Lists Comprehensions</a></li>\n",
    "                        <li class=\"bb\"><a class=\"toc\" href=\"#Dictionaries\">Dictionaries</a></li>\n",
    "                        <li class=\"bb\"><a class=\"toc\" href=\"#Functions\">Functions</a></li>\n",
    "                        <li class=\"bb\"><a class=\"toc\" href=\"#OOP\">Classes and Objects</a></li>\n",
    "                     </ol>\n",
    "                </li>\n",
    "            <ol>\n",
    "        </div>\n",
    "</div>"
   ]
  },
  {
   "cell_type": "markdown",
   "metadata": {},
   "source": [
    "<div class=\"bb alert alert-info\">\n",
    "<a class=\"up_button\" href=\"#TOC\" role=\"button\">go top</a>\n",
    "<a id=\"Jupyter\"></a>\n",
    "<h1 class=\"bbh\">\n",
    "1. Jupyter Notebook and JupyterLab\n",
    "</h1>\n",
    "\n",
    "<hr/>\n",
    "\n",
    "<h3> Jupyter Notebook (used in this workshop)</h3>\n",
    "\n",
    "<ul>\n",
    "<li> Has been around since 2011.</li>\n",
    "<li> Works with one notebook file at a time.</li>\n",
    "</ul>\n",
    "\n",
    "\n",
    "<h3> Jupyter Lab</h3>\n",
    "\n",
    "<ul>\n",
    "<li> Eventual successor to Jupyter Notebook.</li>\n",
    "<li> The same basic functionality as the Notebook, but more flexible environment - can work with multiple notebooks/files side by side.</li>\n",
    "<li> Still in beta.</li>\n",
    "<li> Works fine most of the time, but some notebook functionality not quite there yet.</li>\n",
    "</ul>\n",
    "\n",
    "\n",
    "</div>"
   ]
  },
  {
   "cell_type": "markdown",
   "metadata": {},
   "source": [
    "<div class=\"bb alert alert-info\">\n",
    "<a class=\"up_button\" href=\"#TOC\" role=\"button\">go top</a>\n",
    "<a id=\"Notebook\"></a>\n",
    "<h1 class=\"bbh\">\n",
    "2. Notebook Basics\n",
    "</h1>\n",
    "\n",
    "\n",
    "<hr/>\n",
    "\n",
    "<a id=\"MarkdownCells\"></a>\n",
    "<h2>\n",
    "2.1 Markdown Cells\n",
    "</h2>\n",
    "\n",
    "<p><code>Shift-Enter</code> to render.</p>\n",
    "\n",
    "</div>"
   ]
  },
  {
   "cell_type": "markdown",
   "metadata": {},
   "source": [
    "<div class = \"bb  alert alert-info\">\n",
    "<a class=\"up_button\" href=\"#TOC\" role=\"button\">go top</a>\n",
    "<a id=\"CodeCells\"></a>\n",
    "<h2 class=\"bbh\">\n",
    "3.2 Code Cells \n",
    "</h2>\n",
    "\n",
    "<p><code>Shift-Enter</code> to execute.</p>\n",
    "</div>"
   ]
  },
  {
   "cell_type": "markdown",
   "metadata": {},
   "source": [
    "<div class = \"bb alert alert-info\">\n",
    "<a class=\"up_button\" href=\"#TOC\" role=\"button\">go top</a>\n",
    "<a id=\"Python\"></a>\n",
    "<h1 class=\"bbh\">\n",
    "3. Python Basics\n",
    "</h1>\n",
    "\n",
    "<hr/>\n",
    "\n",
    "<a id=\"Numbers\"></a>\n",
    "<h2>\n",
    "3.1 Numbers and Arithmetics\n",
    "</h2>\n",
    "\n",
    "</div>"
   ]
  },
  {
   "cell_type": "markdown",
   "metadata": {},
   "source": [
    "<div class=\"bb alert alert-info\">\n",
    "Integers can be of an arbitrary size:\n",
    "</div>"
   ]
  },
  {
   "cell_type": "markdown",
   "metadata": {},
   "source": [
    "<div class=\"bb alert alert-info\">\n",
    "Size of floats is limited:\n",
    "</div>"
   ]
  },
  {
   "cell_type": "markdown",
   "metadata": {},
   "source": [
    "<div class=\"bb alert alert-info\">\n",
    "Modulus:\n",
    "</div>"
   ]
  },
  {
   "cell_type": "markdown",
   "metadata": {},
   "source": [
    "<div class=\"bb alert alert-info\">\n",
    "<a class=\"up_button\" href=\"#TOC\" role=\"button\">go top</a>\n",
    "<a id=\"Assignments\"></a>\n",
    "<h2 class=\"bbh\">\n",
    "3.2 Variable assignments\n",
    "</h2>\n",
    "\n",
    "</div>"
   ]
  },
  {
   "cell_type": "markdown",
   "metadata": {},
   "source": [
    "<div class=\"bb alert alert-info\">\n",
    "<a class=\"up_button\" href=\"#TOC\" role=\"button\">go top</a>\n",
    "<a id=\"Modules\"></a>\n",
    "<h2 class=\"bbh\">\n",
    "3.3 Importing Modules\n",
    "</h2>\n",
    "\n",
    "<hr/>\n",
    "\n",
    "\n",
    "<p>\n",
    "Built-in functionality of Python is limited. E.g. no trigonometric functions:\n",
    "</p>\n",
    "\n",
    "\n",
    "</div>"
   ]
  },
  {
   "cell_type": "markdown",
   "metadata": {},
   "source": [
    "<div class=\"bb alert alert-info\">\n",
    "\n",
    "\n",
    "<b>Good news:</b> There are external libraries (modules) suited for almost any task. \n",
    "\n",
    "\n",
    "<ul>\n",
    "<li><a class=\"alert-link\" href=\"https://docs.python.org/3/library/\">Python Standard Library</a>\n",
    "<li><a class=\"alert-link\" href=\"https://docs.anaconda.com/anaconda/packages/pkg-docs/\">Anaconda Package List</a>\n",
    "</ul>\n",
    "</div>"
   ]
  },
  {
   "cell_type": "markdown",
   "metadata": {},
   "source": [
    "<div class=\"bb alert alert-info\">\n",
    "\n",
    "<h3>\n",
    "More convenient ways to import:\n",
    "</h3>\n",
    "\n",
    "<hr/>\n",
    "\n",
    "<b>1.</b> Give a module a nickname:\n",
    "\n",
    "</div>"
   ]
  },
  {
   "cell_type": "markdown",
   "metadata": {},
   "source": [
    "<div class=\"bb alert alert-info\">\n",
    "<b>2.</b> Import some module content directly:\n",
    "</div>"
   ]
  },
  {
   "cell_type": "markdown",
   "metadata": {},
   "source": [
    "<div class=\"bb alert alert-info\">\n",
    "\n",
    "<b>3.</b> Import the whole module content directly (not recommended):\n",
    "\n",
    "</div>\n",
    "\n"
   ]
  },
  {
   "cell_type": "markdown",
   "metadata": {},
   "source": [
    "<div class=\"bb alert alert-info\">\n",
    "<a class=\"up_button\" href=\"#TOC\" role=\"button\">go top</a>\n",
    "<a id=\"Strings\"></a>\n",
    "<h2 class=\"bbh\">\n",
    "3.4 Text Strings\n",
    "</h2>\n",
    "\n",
    "<hr/>\n",
    "\n",
    "<ul>\n",
    "<li> In either single or double quotes.</li>\n",
    "<li> In triple quotes for multiline strings.</li>\n",
    "</ul>\n",
    "\n",
    "</div>"
   ]
  },
  {
   "cell_type": "markdown",
   "metadata": {},
   "source": [
    "<div class=\"bb alert alert-info\">\n",
    "String concatenation:\n",
    "</div>"
   ]
  },
  {
   "cell_type": "markdown",
   "metadata": {},
   "source": [
    "<div class=\"bb alert alert-info\">\n",
    "f-strings:\n",
    "</div>    "
   ]
  },
  {
   "cell_type": "markdown",
   "metadata": {},
   "source": [
    "<div class=\"bb alert alert-info\">\n",
    "<a class=\"up_button\" href=\"#TOC\" role=\"button\">go top</a>\n",
    "<a id=\"IfThen\"></a>\n",
    "<h2 class=\"bbh\">\n",
    "3.5 if/then/else\n",
    "</h2>\n",
    "\n",
    "<hr/>\n",
    "\n",
    "<pre class = \"bb\">\n",
    "<code class>if condition: \n",
    "    do this \n",
    "    do this\n",
    "    do this\n",
    "else: \n",
    "    do this \n",
    "    do this\n",
    "</code></pre>\n",
    "\n",
    "<br/>\n",
    "\n",
    "<b>Note:</b> In Python code blocks are defined by their indentation.\n",
    "\n",
    "</div>"
   ]
  },
  {
   "cell_type": "markdown",
   "metadata": {},
   "source": [
    "<div class=\"bb alert alert-info\">\n",
    "<a class=\"up_button\" href=\"#TOC\" role=\"button\">go top</a>\n",
    "<a id=\"Booleans\"></a>\n",
    "<h2 class=\"bbh\">\n",
    "3.6 Booleans\n",
    "</h2>\n",
    "\n",
    "\n",
    "</div>"
   ]
  },
  {
   "cell_type": "markdown",
   "metadata": {},
   "source": [
    "<div class=\"bb alert alert-info\">\n",
    "\n",
    "<b>\n",
    "Note:\n",
    "</b>\n",
    "\n",
    "<ul>\n",
    "<li> Non-zero numbers and non-empty strings are interpreted as <code>True</code>.</li>\n",
    "<li> Zero and an empty string give <code>False</code>.</li>\n",
    "</ul>\n",
    "\n",
    "</div>\n"
   ]
  },
  {
   "cell_type": "markdown",
   "metadata": {},
   "source": [
    "<div class=\"bb alert alert-info\">\n",
    "<a class=\"up_button\" href=\"#TOC\" role=\"button\">go top</a>\n",
    "<a id=\"While\"></a>\n",
    "<h2 class=\"bbh\">\n",
    "3.7 \"while\" loops\n",
    "</h2>\n",
    "\n",
    "<pre class = \"bb\">\n",
    "<code class>while condition: \n",
    "    do this \n",
    "    do this\n",
    "    do this\n",
    "</code></pre>\n",
    "\n",
    "</div>"
   ]
  },
  {
   "cell_type": "markdown",
   "metadata": {},
   "source": [
    "<div class=\"bb alert alert-info\">\n",
    "<a class=\"up_button\" href=\"#TOC\" role=\"button\">go top</a>\n",
    "<a id=\"Lists\"></a>\n",
    "<h2 class=\"bbh\">\n",
    "3.8 Lists and \"for\" Loops\n",
    "</h2>\n",
    "\n",
    "<hr/>\n",
    "\n",
    "<pre class = \"bb\">\n",
    "<code class>for item in list_of_items: \n",
    "    do this \n",
    "    do this\n",
    "    do this\n",
    "</code></pre>\n",
    "</div>"
   ]
  },
  {
   "cell_type": "markdown",
   "metadata": {},
   "source": [
    "<div class=\"bb alert alert-info\">\n",
    "\n",
    "<ul>\n",
    "<li> A list is an ordered collection of objects of arbitrary types.</li>\n",
    "<li> It is created by enclosing objects in square brackets: \n",
    "</li>\n",
    "</ul>\n",
    "<pre class = \"bb\">\n",
    "<code class>mylist = [a, b, c] \n",
    "</code></pre>    \n",
    "\n",
    "\n",
    "</div>"
   ]
  },
  {
   "cell_type": "markdown",
   "metadata": {},
   "source": [
    "<div class=\"bb alert alert-info\">\n",
    "\n",
    "<b>Note:</b> \n",
    "<p>For all practical purposes <code>True</code> and <code>False</code> are the same as 0 and 1:</p>\n",
    "\n",
    "\n",
    "</div>\n"
   ]
  },
  {
   "cell_type": "markdown",
   "metadata": {},
   "source": [
    "<div class=\"bb alert alert-info\">\n",
    "\n",
    "<p>Accessing list items (indexing starts at 0):</p>\n",
    "\n",
    "\n",
    "</div>\n"
   ]
  },
  {
   "cell_type": "markdown",
   "metadata": {},
   "source": [
    "<div class=\"bb alert alert-info\">\n",
    "\n",
    "<p>Negative indexing counts from the end:</p>\n",
    "\n",
    "</div>\n"
   ]
  },
  {
   "cell_type": "markdown",
   "metadata": {},
   "source": [
    "<div class=\"bb alert alert-info\">\n",
    "\n",
    "<p>List concatenation:</p>\n",
    "\n",
    "</div>"
   ]
  },
  {
   "cell_type": "markdown",
   "metadata": {},
   "source": [
    "<div class=\"bb alert alert-info\">\n",
    "\n",
    "<p>Appending an element to a list:</p>\n",
    "\n",
    "</div>"
   ]
  },
  {
   "cell_type": "markdown",
   "metadata": {},
   "source": [
    "<div class=\"bb alert alert-info\">\n",
    "<a class=\"up_button\" href=\"#TOC\" role=\"button\">go top</a>\n",
    "<a id=\"ListSlicing\"></a>\n",
    "<h2 class=\"bbh\">\n",
    "3.9 Lists Slicing\n",
    "</h2>\n",
    "\n",
    "<hr/>\n",
    "\n",
    "<ul>\n",
    "    <li>Creates a sublist of a list.</li>\n",
    "</ul>\n",
    "\n",
    "<pre class = \"bb\" style=\"width:300px\" >\n",
    "<code class>mylist[start : stop]\n",
    "mylist[start : stop : step]\n",
    "</code></pre>\n",
    "\n",
    "</div>"
   ]
  },
  {
   "cell_type": "markdown",
   "metadata": {},
   "source": [
    "<div class=\"bb alert alert-info\">\n",
    "Strings can be sliced too:\n",
    "</div>"
   ]
  },
  {
   "cell_type": "markdown",
   "metadata": {},
   "source": [
    "<div class=\"bb alert alert-info\">\n",
    "<a class=\"up_button\" href=\"#TOC\" role=\"button\">go top</a>\n",
    "<a id=\"ListComprehensions\"></a>\n",
    "<h2 class=\"bbh\">\n",
    "3.10 Lists Comprehensions\n",
    "</h2>\n",
    "\n",
    "<hr/>\n",
    "\n",
    "<ul>\n",
    "    <li>Creates a new list from a given list.</li>\n",
    "</ul>\n",
    "\n",
    "<pre class = \"bb\" style=\"width:340px\">\n",
    "<code class>[f(x) for x in mylist]\n",
    "[f(x) for x in mylist if condition]\n",
    "</code></pre>\n",
    "\n",
    "</div>"
   ]
  },
  {
   "cell_type": "markdown",
   "metadata": {},
   "source": [
    "<div class=\"bb alert alert-info\">\n",
    "<h3 class=\"bbh\">Example: \n",
    "<a href=\"https://imranontech.com/2007/01/24/using-fizzbuzz-to-find-developers-who-grok-coding/\">FizzBuzz</a>\n",
    "</h3>\n",
    "\n",
    "&nbsp;\n",
    "\n",
    "<i>\n",
    "Write a program that prints the numbers from 1 to 100. But: \n",
    "    <ul>\n",
    "     <li> for multiples of 3 print “Fizz” instead of the number </li>\n",
    "     <li> for the multiples of 5 print “Buzz” </li>\n",
    "     <li> for multiples of both 3 and 5 print “FizzBuzz”.</li>\n",
    "    </ul>\n",
    "</i>\n",
    "</div>"
   ]
  },
  {
   "cell_type": "markdown",
   "metadata": {},
   "source": [
    "<div class=\"bb alert alert-info\">\n",
    "<a class=\"up_button\" href=\"#TOC\" role=\"button\">go top</a>\n",
    "<a id=\"Dictionaries\"></a>\n",
    "<h2 class=\"bbh\">\n",
    "3.11 Dictionaries\n",
    "</h2>\n",
    "\n",
    "<hr/>\n",
    "\n",
    "<ul>\n",
    "    <li>Collections of values indexed by keys:</li>\n",
    "</ul>\n",
    "\n",
    "<pre class = \"bb\" style=\"width:430px\">\n",
    "<code class>my_dictionary = {key1:value1, key2:value2, ...}</code></pre>\n",
    "\n",
    "</div>"
   ]
  },
  {
   "cell_type": "markdown",
   "metadata": {},
   "source": [
    "<div class=\"bb alert alert-info\">\n",
    "Values can be retrieved and modified by key:\n",
    "</div>"
   ]
  },
  {
   "cell_type": "markdown",
   "metadata": {},
   "source": [
    "<div class=\"bb alert alert-info\">\n",
    "Iteration on keys:\n",
    "</div>"
   ]
  },
  {
   "cell_type": "markdown",
   "metadata": {},
   "source": [
    "<div class=\"bb alert alert-info\">\n",
    "<a class=\"up_button\" href=\"#TOC\" role=\"button\">go top</a>\n",
    "<a id=\"Functions\"></a>\n",
    "<h2 class=\"bbh\">\n",
    "3.12 Functions\n",
    "</h2>\n",
    "\n",
    "<hr/>\n",
    "\n",
    "\n",
    "<pre class = \"bb\">\n",
    "<code class>def foo(arg1 , arg2, ...):\n",
    "    do this \n",
    "    do this\n",
    "    return this\n",
    "</code></pre>\n",
    "\n",
    "</div>"
   ]
  },
  {
   "cell_type": "markdown",
   "metadata": {},
   "source": [
    "<div class=\"bb alert alert-info\">\n",
    "<a class=\"up_button\" href=\"#TOC\" role=\"button\">go top</a>\n",
    "<a id=\"OOP\"></a>\n",
    "<h2 class=\"bbh\">\n",
    "3.13 Classes and Objects\n",
    "</h2>\n",
    "\n",
    "<hr/>\n",
    "\n",
    "\n",
    "<pre class = \"bb\">\n",
    "<code class>class MyClass:\n",
    "    statement\n",
    "    statement\n",
    "    statement\n",
    "    \n",
    "x = MyClass()\n",
    "</code></pre>\n",
    "\n",
    "\n",
    "\n",
    "</div>"
   ]
  },
  {
   "cell_type": "markdown",
   "metadata": {},
   "source": [
    "<div class=\"bb alert alert-info\">\n",
    "<b>Note:</b> In Python everything is an object.\n",
    "</div>"
   ]
  }
 ],
 "metadata": {
  "kernelspec": {
   "display_name": "Python 3",
   "language": "python",
   "name": "python3"
  },
  "language_info": {
   "codemirror_mode": {
    "name": "ipython",
    "version": 3
   },
   "file_extension": ".py",
   "mimetype": "text/x-python",
   "name": "python",
   "nbconvert_exporter": "python",
   "pygments_lexer": "ipython3",
   "version": "3.7.1"
  }
 },
 "nbformat": 4,
 "nbformat_minor": 2
}
