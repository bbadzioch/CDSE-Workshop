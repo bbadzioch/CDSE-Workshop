{
 "cells": [
  {
   "cell_type": "markdown",
   "metadata": {},
   "source": [
    "<div class=\"bb alert alert-info\">\n",
    "<h1 class=\"bbh\"><i>\n",
    "Congratulations!\n",
    "</i></h1>\n",
    "\n",
    "<p>\n",
    "<i>Your computer is set up for the CDSE Python workshop. Please do not modify or delete  files in the folder <tt>CDSE_Python_Files</tt> until the workshop is over. If you have any questions related to the workshop please post them on the workshop Piazza page: </i></p> \n",
    "\n",
    "<pre style=\"text-align:center\">\n",
    "<a\n",
    "href=\"http://piazza.com/buffalo/spring2019/cdsepython\">piazza.com/buffalo/spring2019/cdsepython</a>\n",
    "</pre>\n",
    "\n",
    "<p><i>I am looking forward to meeting you on April 9!</i></p> \n",
    "\n",
    "\n",
    "<p><i>Bernard Badzioch</i></p> \n",
    "\n",
    "&nbsp;\n",
    "&nbsp;\n",
    "\n",
    "<img src=\"https://imgs.xkcd.com/comics/python.png\"  style=\"height:400px\">\n",
    "\n",
    "\n",
    "</div>"
   ]
  },
  {
   "cell_type": "code",
   "execution_count": null,
   "metadata": {},
   "outputs": [],
   "source": []
  }
 ],
 "metadata": {
  "kernelspec": {
   "display_name": "Python 3",
   "language": "python",
   "name": "python3"
  },
  "language_info": {
   "codemirror_mode": {
    "name": "ipython",
    "version": 3
   },
   "file_extension": ".py",
   "mimetype": "text/x-python",
   "name": "python",
   "nbconvert_exporter": "python",
   "pygments_lexer": "ipython3",
   "version": "3.7.1"
  }
 },
 "nbformat": 4,
 "nbformat_minor": 2
}
